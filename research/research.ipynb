{
 "cells": [
  {
   "attachments": {},
   "cell_type": "markdown",
   "metadata": {},
   "source": [
    "# News classification using OpenAI API"
   ]
  },
  {
   "cell_type": "code",
   "execution_count": null,
   "metadata": {},
   "outputs": [],
   "source": [
    "%load_ext autoreload\n",
    "%autoreload 2\n",
    "\n",
    "from openai_api import classify\n",
    "import pandas as pd"
   ]
  },
  {
   "attachments": {},
   "cell_type": "markdown",
   "metadata": {},
   "source": [
    "Loading required credentials from `.env` file"
   ]
  },
  {
   "cell_type": "code",
   "execution_count": null,
   "metadata": {},
   "outputs": [],
   "source": [
    "import openai\n",
    "from pydantic_settings import BaseSettings\n",
    "\n",
    "class Credentials(BaseSettings):\n",
    "    phone: str\n",
    "    api_hash: str\n",
    "    api_id: str\n",
    "    openai_api_key: str\n",
    "\n",
    "    class Config:\n",
    "        env_file = \"../config/.env\"\n",
    "        env_file_encoding = \"utf-8\"\n",
    "        \n",
    "categories = [\"Политика\",\"Финансы\", \"Спорт\", \"Знаменитости\", \"Блог\", \"История\", \"Видеоигры\", \"Кино\", \"Технологии\", \"Наука\", \"Анонс\", \"Музыка\", \"Литература\", \"Медицина\", \"Быт\"]\n",
    "\n",
    "creds = Credentials()\n",
    "\n",
    "openai.api_key = creds.openai_api_key"
   ]
  },
  {
   "attachments": {},
   "cell_type": "markdown",
   "metadata": {},
   "source": [
    "Reading dataset got by scraper"
   ]
  },
  {
   "cell_type": "code",
   "execution_count": null,
   "metadata": {},
   "outputs": [],
   "source": [
    "df = pd.read_csv(\"../data/result.csv\")"
   ]
  },
  {
   "attachments": {},
   "cell_type": "markdown",
   "metadata": {},
   "source": [
    "Retrieving labels from OpenAI"
   ]
  },
  {
   "cell_type": "code",
   "execution_count": null,
   "metadata": {},
   "outputs": [],
   "source": [
    "from tqdm import tqdm\n",
    "import logging\n",
    "\n",
    "LOGGING_FORMAT = \"[%(levelname)s] [%(asctime)s] %(message)s\"\n",
    "logging.basicConfig(format=LOGGING_FORMAT, datefmt=\"%m-%d %H:%M:%S\", force=True, level=logging.INFO)\n",
    "\n",
    "results = []\n",
    "errors = 0\n",
    "\n",
    "for i, row in tqdm(df.iterrows(), total=len(df)):\n",
    "    text = row['text']\n",
    "    \n",
    "    if not pd.isnull(df['predicted'][i]):\n",
    "        continue\n",
    "    label = classify(text, categories, \"gpt-3.5-turbo\", 1)\n",
    "    if not label:\n",
    "        errors += 1\n",
    "        df['predicted'][i] = None\n",
    "    else:\n",
    "        df['predicted'][i] = label\n",
    "        df.to_csv(\"result.csv\", index=False)"
   ]
  },
  {
   "attachments": {},
   "cell_type": "markdown",
   "metadata": {},
   "source": [
    "Accuracy and confusion matrix of prediction based on human mark-up"
   ]
  },
  {
   "cell_type": "code",
   "execution_count": null,
   "metadata": {},
   "outputs": [],
   "source": [
    "len(df[df['predicted'] == df['label']]) / (len(df))"
   ]
  },
  {
   "cell_type": "code",
   "execution_count": null,
   "metadata": {},
   "outputs": [],
   "source": [
    "from sklearn.metrics import confusion_matrix\n",
    "from seaborn import heatmap\n",
    "df = df.dropna()\n",
    "\n",
    "labels = df['label'].unique()\n",
    "\n",
    "heatmap(confusion_matrix(df['label'], df['predicted']), xticklabels=labels, yticklabels=labels, cmap='viridis')"
   ]
  }
 ],
 "metadata": {
  "kernelspec": {
   "display_name": ".venv",
   "language": "python",
   "name": "python3"
  },
  "language_info": {
   "codemirror_mode": {
    "name": "ipython",
    "version": 3
   },
   "file_extension": ".py",
   "mimetype": "text/x-python",
   "name": "python",
   "nbconvert_exporter": "python",
   "pygments_lexer": "ipython3"
  }
 },
 "nbformat": 4,
 "nbformat_minor": 2
}
